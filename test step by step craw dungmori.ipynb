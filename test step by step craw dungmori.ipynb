{
 "cells": [
  {
   "cell_type": "code",
   "execution_count": 1,
   "id": "c72b0ce2-ed76-464b-9286-1e6cb8291786",
   "metadata": {},
   "outputs": [],
   "source": [
    "import os\n",
    "import time\n",
    "import undetected_chromedriver as uc\n",
    "from selenium.webdriver.common.by import By\n",
    "from selenium.webdriver.support.ui import WebDriverWait\n",
    "from selenium.webdriver.support import expected_conditions as EC\n",
    "from selenium.common.exceptions import StaleElementReferenceException\n",
    "from bs4 import BeautifulSoup\n",
    "import os\n",
    "import gspread\n",
    "from google.oauth2 import service_account\n",
    "from oauth2client.service_account import ServiceAccountCredentials\n",
    "from gspread_dataframe import set_with_dataframe\n",
    "import pandas as pd\n",
    "current_directory = os.getcwd()\n",
    "options = uc.ChromeOptions()\n",
    "# options.add_argument(f\"user-data-dir={profile_path}\")\n",
    "# options.add_argument(f\"profile-directory={profile_name}\")\n",
    "driver = uc.Chrome(options=options)"
   ]
  },
  {
   "cell_type": "code",
   "execution_count": 2,
   "id": "e34b265f-08f7-4188-b940-ef778d16c29c",
   "metadata": {},
   "outputs": [],
   "source": [
    "driver.get(\"https://dungmori.com/backend/sql\")\n"
   ]
  },
  {
   "cell_type": "code",
   "execution_count": 3,
   "id": "b17a3ecd",
   "metadata": {},
   "outputs": [],
   "source": [
    "accounttxt_path = os.path.join(current_directory, 'account.txt')\n",
    "\n",
    "with open(accounttxt_path, 'r', encoding='utf-8') as file:\n",
    "    accounttxt = file.readlines()\n",
    "    email = accounttxt[0]\n",
    "    password = accounttxt[1]"
   ]
  },
  {
   "cell_type": "code",
   "execution_count": 4,
   "id": "1d34a6df-ad70-48e2-86c7-48529cbe66d9",
   "metadata": {},
   "outputs": [],
   "source": [
    "# Điền địa chỉ email và tiếp tục\n",
    "time.sleep(5)\n",
    "email_input = WebDriverWait(driver, 1000).until(\n",
    "    EC.element_to_be_clickable((By.XPATH, '//*[@id=\"email\"]'))\n",
    ")\n",
    "email_input.send_keys(email)"
   ]
  },
  {
   "cell_type": "code",
   "execution_count": 5,
   "id": "0f18b203-e564-412e-9acd-2b557f02afa0",
   "metadata": {},
   "outputs": [],
   "source": [
    "# Đợi và điền mật khẩu\n",
    "password_input = WebDriverWait(driver, 10).until(\n",
    "    EC.visibility_of_element_located((By.XPATH, '//*[@id=\"password\"]'))\n",
    ")\n",
    "password_input.send_keys(password)"
   ]
  },
  {
   "cell_type": "code",
   "execution_count": 6,
   "id": "319dbe26-a19d-4fce-b9e6-b5e853887ef3",
   "metadata": {},
   "outputs": [],
   "source": [
    "time.sleep(2)\n",
    "next_button = WebDriverWait(driver, 1000).until(\n",
    "    EC.element_to_be_clickable((By.XPATH, '/html/body/section/div/div/div/form/div[5]/div/button')))\n",
    "next_button.click()"
   ]
  },
  {
   "cell_type": "code",
   "execution_count": 7,
   "id": "a58ca332-5c5e-4927-aa0a-58a86ec27722",
   "metadata": {},
   "outputs": [],
   "source": [
    "time.sleep(2)\n",
    "driver.get(\"https://dungmori.com/backend/sql\")"
   ]
  },
  {
   "cell_type": "code",
   "execution_count": 8,
   "id": "a1cc5c03-f0d1-4499-9f66-a8184d82cb9b",
   "metadata": {},
   "outputs": [],
   "source": [
    "group_query_path = os.path.join(current_directory, 'group info.sql')\n",
    "\n",
    "with open(group_query_path, 'r', encoding='utf-8') as file:\n",
    "    group_query = file.read()"
   ]
  },
  {
   "cell_type": "code",
   "execution_count": 9,
   "id": "46f82d93-773f-4e98-8a66-4bd241eacb95",
   "metadata": {},
   "outputs": [],
   "source": [
    "time.sleep(2)\n",
    "query_input = WebDriverWait(driver, 10).until(\n",
    "    EC.element_to_be_clickable((By.XPATH, '/html/body/div[5]/div/div/textarea'))\n",
    ")"
   ]
  },
  {
   "cell_type": "code",
   "execution_count": 10,
   "id": "e69599ed-3821-4177-b110-043d45d6805c",
   "metadata": {},
   "outputs": [],
   "source": [
    "driver.execute_script(\"arguments[0].value = arguments[1];\", query_input, group_query)\n"
   ]
  },
  {
   "cell_type": "code",
   "execution_count": 11,
   "id": "f89db115-80df-487a-8087-caa149e587e7",
   "metadata": {},
   "outputs": [],
   "source": [
    "time.sleep(2)\n",
    "query_button = driver.find_element(By.XPATH,'//*[@id=\"sql_manager\"]/button')\n",
    "query_button.click()"
   ]
  },
  {
   "cell_type": "code",
   "execution_count": 12,
   "id": "d766d679-c572-4ee2-95f2-5b17c47f8874",
   "metadata": {},
   "outputs": [],
   "source": [
    "time.sleep(5)"
   ]
  },
  {
   "cell_type": "code",
   "execution_count": 13,
   "id": "ea7872ac-56e8-4fa5-a69e-ce09075cf59c",
   "metadata": {},
   "outputs": [],
   "source": [
    "soup = BeautifulSoup(driver.page_source)"
   ]
  },
  {
   "cell_type": "code",
   "execution_count": 14,
   "id": "0e73d29e-7a69-45e6-bb72-4ee0db5f4ab6",
   "metadata": {},
   "outputs": [],
   "source": [
    "table = soup.find_all('table',class_='table table-bordered')\n"
   ]
  },
  {
   "cell_type": "code",
   "execution_count": 15,
   "id": "e4268a16-d621-4bda-bd95-c946cb0f26bf",
   "metadata": {},
   "outputs": [],
   "source": [
    "# table"
   ]
  },
  {
   "cell_type": "code",
   "execution_count": 16,
   "id": "7d0a95ba-b18c-43d5-95bc-e48f478a417d",
   "metadata": {},
   "outputs": [],
   "source": [
    "headers = [header.get_text() for header in table[0].find_all('thead')[0].find_all('th')]\n"
   ]
  },
  {
   "cell_type": "code",
   "execution_count": 17,
   "id": "adbd1a84-4858-4bc2-a52c-748d514abab8",
   "metadata": {},
   "outputs": [],
   "source": [
    "# headers"
   ]
  },
  {
   "cell_type": "code",
   "execution_count": 18,
   "id": "7172aeb5-fd0b-45b7-bdf5-46ae5729ff2a",
   "metadata": {},
   "outputs": [],
   "source": [
    "rows = []\n",
    "for row in table[0].find_all('tbody')[0].find_all('tr'):\n",
    "    cells = [cell.get_text() for cell in row.find_all('th')]\n",
    "    rows.append(cells)"
   ]
  },
  {
   "cell_type": "code",
   "execution_count": 19,
   "id": "a096774d-cc5f-465d-8c1d-24869377c241",
   "metadata": {},
   "outputs": [],
   "source": [
    "# rows"
   ]
  },
  {
   "cell_type": "code",
   "execution_count": 20,
   "id": "ee5c6abd-7e38-4e73-a463-c7aa2172181f",
   "metadata": {},
   "outputs": [],
   "source": [
    "group_info_df = pd.DataFrame(rows, columns=headers)"
   ]
  },
  {
   "cell_type": "code",
   "execution_count": 21,
   "id": "4131a7ce-a3c7-41b9-b5eb-a41eb7fc8709",
   "metadata": {},
   "outputs": [],
   "source": [
    "# group_info_df"
   ]
  },
  {
   "cell_type": "code",
   "execution_count": 22,
   "id": "89a13637-c205-4358-bcdb-71dcac3565c9",
   "metadata": {},
   "outputs": [],
   "source": [
    "time.sleep(2)\n",
    "driver.get('https://dungmori.com/backend/sql-school')"
   ]
  },
  {
   "cell_type": "code",
   "execution_count": 23,
   "id": "5330980e-52c6-4f73-856f-03fff6b61763",
   "metadata": {},
   "outputs": [],
   "source": [
    "group_time_query_path = os.path.join(current_directory, 'group_time_tbl_count.sql')\n",
    "\n",
    "with open(group_time_query_path, 'r', encoding='utf-8') as file:\n",
    "    group_time_query = file.read()"
   ]
  },
  {
   "cell_type": "code",
   "execution_count": 24,
   "id": "a985534c-13e5-48c7-a733-54b71fee3a6c",
   "metadata": {},
   "outputs": [],
   "source": [
    "time.sleep(2)\n",
    "group_time_query_input = WebDriverWait(driver, 10).until(\n",
    "    EC.element_to_be_clickable((By.XPATH, '/html/body/div[5]/div/div/textarea'))\n",
    ")"
   ]
  },
  {
   "cell_type": "code",
   "execution_count": 25,
   "id": "653d3c6e-8486-4c9e-8ef9-030106d4cc57",
   "metadata": {},
   "outputs": [],
   "source": [
    "driver.execute_script(\"arguments[0].value = arguments[1];\", group_time_query_input,group_time_query)\n"
   ]
  },
  {
   "cell_type": "code",
   "execution_count": 26,
   "id": "e24bc7a6-f3d4-4959-82bf-09ba852796c1",
   "metadata": {},
   "outputs": [],
   "source": [
    "time.sleep(2)\n",
    "query_button = driver.find_element(By.XPATH,'//*[@id=\"sql_manager\"]/button')\n",
    "query_button.click()"
   ]
  },
  {
   "cell_type": "code",
   "execution_count": 27,
   "id": "e670b710-5cd4-4041-bd21-8e1d0ea09eae",
   "metadata": {},
   "outputs": [],
   "source": [
    "time.sleep(5)"
   ]
  },
  {
   "cell_type": "code",
   "execution_count": 28,
   "id": "9f62ae5b-570b-4528-87ec-a853e260d9d9",
   "metadata": {},
   "outputs": [],
   "source": [
    "group_times_soup = BeautifulSoup(driver.page_source)"
   ]
  },
  {
   "cell_type": "code",
   "execution_count": 29,
   "id": "e7b58112-9c0c-41a0-9070-bf34ef566b3e",
   "metadata": {},
   "outputs": [],
   "source": [
    "group_times_table = group_times_soup.find_all('table',class_='table table-bordered')\n"
   ]
  },
  {
   "cell_type": "code",
   "execution_count": 30,
   "id": "6e727a9e-2d8e-4a8d-a55e-89c1cc358e57",
   "metadata": {},
   "outputs": [],
   "source": [
    "# group_times_table_headers"
   ]
  },
  {
   "cell_type": "code",
   "execution_count": 31,
   "id": "39568a89-e9f2-41ed-931a-bf086bced804",
   "metadata": {},
   "outputs": [],
   "source": [
    "group_times_table_rows = []\n",
    "for row in group_times_soup.find_all('tbody')[0].find_all('tr'):\n",
    "    cells = [cell.get_text() for cell in row.find_all('th')]\n",
    "    group_times_table_rows.append(cells)"
   ]
  },
  {
   "cell_type": "code",
   "execution_count": 32,
   "id": "93f256b9-c620-43ed-8887-4feba65e7212",
   "metadata": {},
   "outputs": [],
   "source": [
    "group_times_df = pd.DataFrame(group_times_table_rows, columns=['group_id','session_count'])"
   ]
  },
  {
   "cell_type": "code",
   "execution_count": 33,
   "id": "50d39cc7-1af3-4aa2-9ac9-95f1f1801059",
   "metadata": {},
   "outputs": [],
   "source": [
    "# group_times_df"
   ]
  },
  {
   "cell_type": "code",
   "execution_count": 34,
   "id": "59ebd3e4-8036-4bea-89fb-af0c94081c6a",
   "metadata": {},
   "outputs": [],
   "source": [
    "final_df = pd.merge(group_info_df,group_times_df,how = 'inner', on='group_id')"
   ]
  },
  {
   "cell_type": "code",
   "execution_count": 34,
   "id": "46d28c3b-5acb-45b7-ab0c-c4ebff467d10",
   "metadata": {},
   "outputs": [],
   "source": [
    "# final_df"
   ]
  },
  {
   "cell_type": "code",
   "execution_count": 35,
   "id": "31877c38-fc32-48ad-83bc-4448aa0de5c9",
   "metadata": {},
   "outputs": [],
   "source": [
    "change_type_columns = ['group_id','vip_session','shift_type','count_students','session_count']"
   ]
  },
  {
   "cell_type": "code",
   "execution_count": 37,
   "id": "74c2f15c",
   "metadata": {},
   "outputs": [
    {
     "data": {
      "text/html": [
       "<div>\n",
       "<style scoped>\n",
       "    .dataframe tbody tr th:only-of-type {\n",
       "        vertical-align: middle;\n",
       "    }\n",
       "\n",
       "    .dataframe tbody tr th {\n",
       "        vertical-align: top;\n",
       "    }\n",
       "\n",
       "    .dataframe thead th {\n",
       "        text-align: right;\n",
       "    }\n",
       "</style>\n",
       "<table border=\"1\" class=\"dataframe\">\n",
       "  <thead>\n",
       "    <tr style=\"text-align: right;\">\n",
       "      <th></th>\n",
       "      <th>group_id</th>\n",
       "      <th>name</th>\n",
       "      <th>type</th>\n",
       "      <th>vip_level</th>\n",
       "      <th>vip_session</th>\n",
       "      <th>shift_type</th>\n",
       "      <th>shift_time</th>\n",
       "      <th>start_date</th>\n",
       "      <th>expired_date</th>\n",
       "      <th>count_students</th>\n",
       "      <th>session_count</th>\n",
       "    </tr>\n",
       "  </thead>\n",
       "  <tbody>\n",
       "    <tr>\n",
       "      <th>0</th>\n",
       "      <td>1113</td>\n",
       "      <td>ONLINE VIP N3-32 DŨNG MORI (18/2/2022)</td>\n",
       "      <td>vip15</td>\n",
       "      <td>N3</td>\n",
       "      <td>55</td>\n",
       "      <td>246</td>\n",
       "      <td></td>\n",
       "      <td>2022-02-21</td>\n",
       "      <td>2022-06-27</td>\n",
       "      <td>14</td>\n",
       "      <td>1</td>\n",
       "    </tr>\n",
       "    <tr>\n",
       "      <th>1</th>\n",
       "      <td>1116</td>\n",
       "      <td>ONLINE VIP N4-43 DŨNG MORI(24/02/2022)</td>\n",
       "      <td>vip15</td>\n",
       "      <td>N4</td>\n",
       "      <td>55</td>\n",
       "      <td>246</td>\n",
       "      <td></td>\n",
       "      <td>2022-02-24</td>\n",
       "      <td>2022-07-12</td>\n",
       "      <td>16</td>\n",
       "      <td>1</td>\n",
       "    </tr>\n",
       "    <tr>\n",
       "      <th>2</th>\n",
       "      <td>1119</td>\n",
       "      <td>ONLINE VIP N4-42 Nguyễn Thị Thu Hà  DŨNG MORI(...</td>\n",
       "      <td>vip15</td>\n",
       "      <td>N4</td>\n",
       "      <td>55</td>\n",
       "      <td>246</td>\n",
       "      <td></td>\n",
       "      <td>2022-02-25</td>\n",
       "      <td>2022-07-06</td>\n",
       "      <td>14</td>\n",
       "      <td>3</td>\n",
       "    </tr>\n",
       "    <tr>\n",
       "      <th>3</th>\n",
       "      <td>1123</td>\n",
       "      <td>ONLIVE VIP N5-47 DŨNG MORI (02/03/2022)</td>\n",
       "      <td>vip15</td>\n",
       "      <td>N5</td>\n",
       "      <td>60</td>\n",
       "      <td>246</td>\n",
       "      <td></td>\n",
       "      <td>2022-03-02</td>\n",
       "      <td>2022-07-13</td>\n",
       "      <td>16</td>\n",
       "      <td>1</td>\n",
       "    </tr>\n",
       "    <tr>\n",
       "      <th>4</th>\n",
       "      <td>1126</td>\n",
       "      <td>ONLINE VIP N2-13 DŨNG MORI (01/03/2022)</td>\n",
       "      <td>vip15</td>\n",
       "      <td>N2</td>\n",
       "      <td>13</td>\n",
       "      <td>357</td>\n",
       "      <td>19:00:00</td>\n",
       "      <td>2022-03-01</td>\n",
       "      <td>2022-07-05</td>\n",
       "      <td>16</td>\n",
       "      <td>55</td>\n",
       "    </tr>\n",
       "    <tr>\n",
       "      <th>...</th>\n",
       "      <td>...</td>\n",
       "      <td>...</td>\n",
       "      <td>...</td>\n",
       "      <td>...</td>\n",
       "      <td>...</td>\n",
       "      <td>...</td>\n",
       "      <td>...</td>\n",
       "      <td>...</td>\n",
       "      <td>...</td>\n",
       "      <td>...</td>\n",
       "      <td>...</td>\n",
       "    </tr>\n",
       "    <tr>\n",
       "      <th>1277</th>\n",
       "      <td>3273</td>\n",
       "      <td>N3-070824(1)-Nguyễn Thị Kim Chín DMR311 246</td>\n",
       "      <td>vip15</td>\n",
       "      <td>N3</td>\n",
       "      <td>55</td>\n",
       "      <td>246</td>\n",
       "      <td>19:00:00</td>\n",
       "      <td>2024-08-07</td>\n",
       "      <td>2025-01-08</td>\n",
       "      <td>17</td>\n",
       "      <td>1</td>\n",
       "    </tr>\n",
       "    <tr>\n",
       "      <th>1278</th>\n",
       "      <td>3275</td>\n",
       "      <td>FSOFT N2 (4)- 240724 - Phạm Thanh Nhàn 先生</td>\n",
       "      <td>vip15</td>\n",
       "      <td>N2</td>\n",
       "      <td>32</td>\n",
       "      <td>246</td>\n",
       "      <td>09:00:00</td>\n",
       "      <td>2024-07-24</td>\n",
       "      <td>2025-02-24</td>\n",
       "      <td>20</td>\n",
       "      <td>1</td>\n",
       "    </tr>\n",
       "    <tr>\n",
       "      <th>1279</th>\n",
       "      <td>3285</td>\n",
       "      <td>N4-050824(2)-Nguyễn Thị Thúy DMR244 (246)</td>\n",
       "      <td>vip15</td>\n",
       "      <td>N4</td>\n",
       "      <td>55</td>\n",
       "      <td>246</td>\n",
       "      <td>19:00:00</td>\n",
       "      <td>2024-08-05</td>\n",
       "      <td>2025-02-12</td>\n",
       "      <td>17</td>\n",
       "      <td>2</td>\n",
       "    </tr>\n",
       "    <tr>\n",
       "      <th>1280</th>\n",
       "      <td>3293</td>\n",
       "      <td>N3 1:1 -080824- Bùi Thị Thanh Xuân DMR53</td>\n",
       "      <td>vip1</td>\n",
       "      <td>N3</td>\n",
       "      <td>45</td>\n",
       "      <td>2356</td>\n",
       "      <td>15:00:00</td>\n",
       "      <td>2024-08-08</td>\n",
       "      <td>2024-11-26</td>\n",
       "      <td>1</td>\n",
       "      <td>1</td>\n",
       "    </tr>\n",
       "    <tr>\n",
       "      <th>1281</th>\n",
       "      <td>3312</td>\n",
       "      <td>N3 1:1-070824(2)-Phạm Thị Hoa DMR152 246</td>\n",
       "      <td>vip1</td>\n",
       "      <td>N3</td>\n",
       "      <td>45</td>\n",
       "      <td>246</td>\n",
       "      <td>11:00:00</td>\n",
       "      <td>2024-08-07</td>\n",
       "      <td>2024-12-13</td>\n",
       "      <td>1</td>\n",
       "      <td>1</td>\n",
       "    </tr>\n",
       "  </tbody>\n",
       "</table>\n",
       "<p>1282 rows × 11 columns</p>\n",
       "</div>"
      ],
      "text/plain": [
       "      group_id                                               name   type  \\\n",
       "0         1113             ONLINE VIP N3-32 DŨNG MORI (18/2/2022)  vip15   \n",
       "1         1116             ONLINE VIP N4-43 DŨNG MORI(24/02/2022)  vip15   \n",
       "2         1119  ONLINE VIP N4-42 Nguyễn Thị Thu Hà  DŨNG MORI(...  vip15   \n",
       "3         1123            ONLIVE VIP N5-47 DŨNG MORI (02/03/2022)  vip15   \n",
       "4         1126            ONLINE VIP N2-13 DŨNG MORI (01/03/2022)  vip15   \n",
       "...        ...                                                ...    ...   \n",
       "1277      3273        N3-070824(1)-Nguyễn Thị Kim Chín DMR311 246  vip15   \n",
       "1278      3275          FSOFT N2 (4)- 240724 - Phạm Thanh Nhàn 先生  vip15   \n",
       "1279      3285          N4-050824(2)-Nguyễn Thị Thúy DMR244 (246)  vip15   \n",
       "1280      3293           N3 1:1 -080824- Bùi Thị Thanh Xuân DMR53   vip1   \n",
       "1281      3312           N3 1:1-070824(2)-Phạm Thị Hoa DMR152 246   vip1   \n",
       "\n",
       "     vip_level  vip_session shift_type shift_time  start_date expired_date  \\\n",
       "0           N3           55        246             2022-02-21   2022-06-27   \n",
       "1           N4           55        246             2022-02-24   2022-07-12   \n",
       "2           N4           55        246             2022-02-25   2022-07-06   \n",
       "3           N5           60        246             2022-03-02   2022-07-13   \n",
       "4           N2           13        357   19:00:00  2022-03-01   2022-07-05   \n",
       "...        ...          ...        ...        ...         ...          ...   \n",
       "1277        N3           55        246   19:00:00  2024-08-07   2025-01-08   \n",
       "1278        N2           32        246   09:00:00  2024-07-24   2025-02-24   \n",
       "1279        N4           55        246   19:00:00  2024-08-05   2025-02-12   \n",
       "1280        N3           45       2356   15:00:00  2024-08-08   2024-11-26   \n",
       "1281        N3           45        246   11:00:00  2024-08-07   2024-12-13   \n",
       "\n",
       "     count_students session_count  \n",
       "0                14             1  \n",
       "1                16             1  \n",
       "2                14             3  \n",
       "3                16             1  \n",
       "4                16            55  \n",
       "...             ...           ...  \n",
       "1277             17             1  \n",
       "1278             20             1  \n",
       "1279             17             2  \n",
       "1280              1             1  \n",
       "1281              1             1  \n",
       "\n",
       "[1282 rows x 11 columns]"
      ]
     },
     "execution_count": 37,
     "metadata": {},
     "output_type": "execute_result"
    }
   ],
   "source": [
    "final_df"
   ]
  },
  {
   "cell_type": "code",
   "execution_count": 36,
   "id": "625f9741-82af-41bd-a373-8c38095f00d7",
   "metadata": {},
   "outputs": [
    {
     "ename": "ValueError",
     "evalue": "invalid literal for int() with base 10: ''",
     "output_type": "error",
     "traceback": [
      "\u001b[1;31m---------------------------------------------------------------------------\u001b[0m",
      "\u001b[1;31mValueError\u001b[0m                                Traceback (most recent call last)",
      "Cell \u001b[1;32mIn[36], line 2\u001b[0m\n\u001b[0;32m      1\u001b[0m \u001b[38;5;28;01mfor\u001b[39;00m column \u001b[38;5;129;01min\u001b[39;00m change_type_columns:\n\u001b[1;32m----> 2\u001b[0m     final_df[column] \u001b[38;5;241m=\u001b[39m final_df[column]\u001b[38;5;241m.\u001b[39mastype(\u001b[38;5;28mint\u001b[39m)\n",
      "File \u001b[1;32mc:\\Users\\cuongnm\\anaconda3\\Lib\\site-packages\\pandas\\core\\generic.py:6643\u001b[0m, in \u001b[0;36mNDFrame.astype\u001b[1;34m(self, dtype, copy, errors)\u001b[0m\n\u001b[0;32m   6637\u001b[0m     results \u001b[38;5;241m=\u001b[39m [\n\u001b[0;32m   6638\u001b[0m         ser\u001b[38;5;241m.\u001b[39mastype(dtype, copy\u001b[38;5;241m=\u001b[39mcopy, errors\u001b[38;5;241m=\u001b[39merrors) \u001b[38;5;28;01mfor\u001b[39;00m _, ser \u001b[38;5;129;01min\u001b[39;00m \u001b[38;5;28mself\u001b[39m\u001b[38;5;241m.\u001b[39mitems()\n\u001b[0;32m   6639\u001b[0m     ]\n\u001b[0;32m   6641\u001b[0m \u001b[38;5;28;01melse\u001b[39;00m:\n\u001b[0;32m   6642\u001b[0m     \u001b[38;5;66;03m# else, only a single dtype is given\u001b[39;00m\n\u001b[1;32m-> 6643\u001b[0m     new_data \u001b[38;5;241m=\u001b[39m \u001b[38;5;28mself\u001b[39m\u001b[38;5;241m.\u001b[39m_mgr\u001b[38;5;241m.\u001b[39mastype(dtype\u001b[38;5;241m=\u001b[39mdtype, copy\u001b[38;5;241m=\u001b[39mcopy, errors\u001b[38;5;241m=\u001b[39merrors)\n\u001b[0;32m   6644\u001b[0m     res \u001b[38;5;241m=\u001b[39m \u001b[38;5;28mself\u001b[39m\u001b[38;5;241m.\u001b[39m_constructor_from_mgr(new_data, axes\u001b[38;5;241m=\u001b[39mnew_data\u001b[38;5;241m.\u001b[39maxes)\n\u001b[0;32m   6645\u001b[0m     \u001b[38;5;28;01mreturn\u001b[39;00m res\u001b[38;5;241m.\u001b[39m__finalize__(\u001b[38;5;28mself\u001b[39m, method\u001b[38;5;241m=\u001b[39m\u001b[38;5;124m\"\u001b[39m\u001b[38;5;124mastype\u001b[39m\u001b[38;5;124m\"\u001b[39m)\n",
      "File \u001b[1;32mc:\\Users\\cuongnm\\anaconda3\\Lib\\site-packages\\pandas\\core\\internals\\managers.py:430\u001b[0m, in \u001b[0;36mBaseBlockManager.astype\u001b[1;34m(self, dtype, copy, errors)\u001b[0m\n\u001b[0;32m    427\u001b[0m \u001b[38;5;28;01melif\u001b[39;00m using_copy_on_write():\n\u001b[0;32m    428\u001b[0m     copy \u001b[38;5;241m=\u001b[39m \u001b[38;5;28;01mFalse\u001b[39;00m\n\u001b[1;32m--> 430\u001b[0m \u001b[38;5;28;01mreturn\u001b[39;00m \u001b[38;5;28mself\u001b[39m\u001b[38;5;241m.\u001b[39mapply(\n\u001b[0;32m    431\u001b[0m     \u001b[38;5;124m\"\u001b[39m\u001b[38;5;124mastype\u001b[39m\u001b[38;5;124m\"\u001b[39m,\n\u001b[0;32m    432\u001b[0m     dtype\u001b[38;5;241m=\u001b[39mdtype,\n\u001b[0;32m    433\u001b[0m     copy\u001b[38;5;241m=\u001b[39mcopy,\n\u001b[0;32m    434\u001b[0m     errors\u001b[38;5;241m=\u001b[39merrors,\n\u001b[0;32m    435\u001b[0m     using_cow\u001b[38;5;241m=\u001b[39musing_copy_on_write(),\n\u001b[0;32m    436\u001b[0m )\n",
      "File \u001b[1;32mc:\\Users\\cuongnm\\anaconda3\\Lib\\site-packages\\pandas\\core\\internals\\managers.py:363\u001b[0m, in \u001b[0;36mBaseBlockManager.apply\u001b[1;34m(self, f, align_keys, **kwargs)\u001b[0m\n\u001b[0;32m    361\u001b[0m         applied \u001b[38;5;241m=\u001b[39m b\u001b[38;5;241m.\u001b[39mapply(f, \u001b[38;5;241m*\u001b[39m\u001b[38;5;241m*\u001b[39mkwargs)\n\u001b[0;32m    362\u001b[0m     \u001b[38;5;28;01melse\u001b[39;00m:\n\u001b[1;32m--> 363\u001b[0m         applied \u001b[38;5;241m=\u001b[39m \u001b[38;5;28mgetattr\u001b[39m(b, f)(\u001b[38;5;241m*\u001b[39m\u001b[38;5;241m*\u001b[39mkwargs)\n\u001b[0;32m    364\u001b[0m     result_blocks \u001b[38;5;241m=\u001b[39m extend_blocks(applied, result_blocks)\n\u001b[0;32m    366\u001b[0m out \u001b[38;5;241m=\u001b[39m \u001b[38;5;28mtype\u001b[39m(\u001b[38;5;28mself\u001b[39m)\u001b[38;5;241m.\u001b[39mfrom_blocks(result_blocks, \u001b[38;5;28mself\u001b[39m\u001b[38;5;241m.\u001b[39maxes)\n",
      "File \u001b[1;32mc:\\Users\\cuongnm\\anaconda3\\Lib\\site-packages\\pandas\\core\\internals\\blocks.py:758\u001b[0m, in \u001b[0;36mBlock.astype\u001b[1;34m(self, dtype, copy, errors, using_cow, squeeze)\u001b[0m\n\u001b[0;32m    755\u001b[0m         \u001b[38;5;28;01mraise\u001b[39;00m \u001b[38;5;167;01mValueError\u001b[39;00m(\u001b[38;5;124m\"\u001b[39m\u001b[38;5;124mCan not squeeze with more than one column.\u001b[39m\u001b[38;5;124m\"\u001b[39m)\n\u001b[0;32m    756\u001b[0m     values \u001b[38;5;241m=\u001b[39m values[\u001b[38;5;241m0\u001b[39m, :]  \u001b[38;5;66;03m# type: ignore[call-overload]\u001b[39;00m\n\u001b[1;32m--> 758\u001b[0m new_values \u001b[38;5;241m=\u001b[39m astype_array_safe(values, dtype, copy\u001b[38;5;241m=\u001b[39mcopy, errors\u001b[38;5;241m=\u001b[39merrors)\n\u001b[0;32m    760\u001b[0m new_values \u001b[38;5;241m=\u001b[39m maybe_coerce_values(new_values)\n\u001b[0;32m    762\u001b[0m refs \u001b[38;5;241m=\u001b[39m \u001b[38;5;28;01mNone\u001b[39;00m\n",
      "File \u001b[1;32mc:\\Users\\cuongnm\\anaconda3\\Lib\\site-packages\\pandas\\core\\dtypes\\astype.py:237\u001b[0m, in \u001b[0;36mastype_array_safe\u001b[1;34m(values, dtype, copy, errors)\u001b[0m\n\u001b[0;32m    234\u001b[0m     dtype \u001b[38;5;241m=\u001b[39m dtype\u001b[38;5;241m.\u001b[39mnumpy_dtype\n\u001b[0;32m    236\u001b[0m \u001b[38;5;28;01mtry\u001b[39;00m:\n\u001b[1;32m--> 237\u001b[0m     new_values \u001b[38;5;241m=\u001b[39m astype_array(values, dtype, copy\u001b[38;5;241m=\u001b[39mcopy)\n\u001b[0;32m    238\u001b[0m \u001b[38;5;28;01mexcept\u001b[39;00m (\u001b[38;5;167;01mValueError\u001b[39;00m, \u001b[38;5;167;01mTypeError\u001b[39;00m):\n\u001b[0;32m    239\u001b[0m     \u001b[38;5;66;03m# e.g. _astype_nansafe can fail on object-dtype of strings\u001b[39;00m\n\u001b[0;32m    240\u001b[0m     \u001b[38;5;66;03m#  trying to convert to float\u001b[39;00m\n\u001b[0;32m    241\u001b[0m     \u001b[38;5;28;01mif\u001b[39;00m errors \u001b[38;5;241m==\u001b[39m \u001b[38;5;124m\"\u001b[39m\u001b[38;5;124mignore\u001b[39m\u001b[38;5;124m\"\u001b[39m:\n",
      "File \u001b[1;32mc:\\Users\\cuongnm\\anaconda3\\Lib\\site-packages\\pandas\\core\\dtypes\\astype.py:182\u001b[0m, in \u001b[0;36mastype_array\u001b[1;34m(values, dtype, copy)\u001b[0m\n\u001b[0;32m    179\u001b[0m     values \u001b[38;5;241m=\u001b[39m values\u001b[38;5;241m.\u001b[39mastype(dtype, copy\u001b[38;5;241m=\u001b[39mcopy)\n\u001b[0;32m    181\u001b[0m \u001b[38;5;28;01melse\u001b[39;00m:\n\u001b[1;32m--> 182\u001b[0m     values \u001b[38;5;241m=\u001b[39m _astype_nansafe(values, dtype, copy\u001b[38;5;241m=\u001b[39mcopy)\n\u001b[0;32m    184\u001b[0m \u001b[38;5;66;03m# in pandas we don't store numpy str dtypes, so convert to object\u001b[39;00m\n\u001b[0;32m    185\u001b[0m \u001b[38;5;28;01mif\u001b[39;00m \u001b[38;5;28misinstance\u001b[39m(dtype, np\u001b[38;5;241m.\u001b[39mdtype) \u001b[38;5;129;01mand\u001b[39;00m \u001b[38;5;28missubclass\u001b[39m(values\u001b[38;5;241m.\u001b[39mdtype\u001b[38;5;241m.\u001b[39mtype, \u001b[38;5;28mstr\u001b[39m):\n",
      "File \u001b[1;32mc:\\Users\\cuongnm\\anaconda3\\Lib\\site-packages\\pandas\\core\\dtypes\\astype.py:133\u001b[0m, in \u001b[0;36m_astype_nansafe\u001b[1;34m(arr, dtype, copy, skipna)\u001b[0m\n\u001b[0;32m    129\u001b[0m     \u001b[38;5;28;01mraise\u001b[39;00m \u001b[38;5;167;01mValueError\u001b[39;00m(msg)\n\u001b[0;32m    131\u001b[0m \u001b[38;5;28;01mif\u001b[39;00m copy \u001b[38;5;129;01mor\u001b[39;00m arr\u001b[38;5;241m.\u001b[39mdtype \u001b[38;5;241m==\u001b[39m \u001b[38;5;28mobject\u001b[39m \u001b[38;5;129;01mor\u001b[39;00m dtype \u001b[38;5;241m==\u001b[39m \u001b[38;5;28mobject\u001b[39m:\n\u001b[0;32m    132\u001b[0m     \u001b[38;5;66;03m# Explicit copy, or required since NumPy can't view from / to object.\u001b[39;00m\n\u001b[1;32m--> 133\u001b[0m     \u001b[38;5;28;01mreturn\u001b[39;00m arr\u001b[38;5;241m.\u001b[39mastype(dtype, copy\u001b[38;5;241m=\u001b[39m\u001b[38;5;28;01mTrue\u001b[39;00m)\n\u001b[0;32m    135\u001b[0m \u001b[38;5;28;01mreturn\u001b[39;00m arr\u001b[38;5;241m.\u001b[39mastype(dtype, copy\u001b[38;5;241m=\u001b[39mcopy)\n",
      "\u001b[1;31mValueError\u001b[0m: invalid literal for int() with base 10: ''"
     ]
    }
   ],
   "source": [
    "for column in change_type_columns:\n",
    "    final_df[column] = final_df[column].astype(int)"
   ]
  },
  {
   "cell_type": "code",
   "execution_count": 37,
   "id": "2b619dee-aa45-4199-8cfc-e5d5bb43bbe8",
   "metadata": {},
   "outputs": [],
   "source": [
    "final_df['đợt chăm sóc'] = final_df.apply(\n",
    "    lambda row: 1 if (\n",
    "        (row['type'] == 'vip1' and row['session_count'] == 6) or\n",
    "        (row['type'] == 'vip15' and (row['session_count'] ==6)) or\n",
    "        (row['type'] == 'matgoc' and row['session_count'] == 3) or\n",
    "        (row['type'] == 'captoc' and row['session_count'] == 12)\n",
    "    ) else 2 if (\n",
    "        (row['type'] == 'vip1' and row['session_count'] == 22) or\n",
    "        (row['type'] == 'vip15' and row['session_count'] in range(28, 35)) or\n",
    "        (row['type'] == 'matgoc' and row['session_count'] == 8) or\n",
    "        (row['type'] == 'captoc' and row['session_count'] == 24)\n",
    "    ) else 3 if (\n",
    "        (row['type'] == 'vip1' and row['session_count'] == 40) or\n",
    "        (row['type'] == 'vip15' and row['session_count'] in range(40, 51))\n",
    "    ) else 0,\n",
    "    axis=1\n",
    ")\n"
   ]
  },
  {
   "cell_type": "code",
   "execution_count": 38,
   "id": "42545bb6-59a0-433a-9f1a-3c42679f7b1d",
   "metadata": {},
   "outputs": [
    {
     "data": {
      "text/html": [
       "<div>\n",
       "<style scoped>\n",
       "    .dataframe tbody tr th:only-of-type {\n",
       "        vertical-align: middle;\n",
       "    }\n",
       "\n",
       "    .dataframe tbody tr th {\n",
       "        vertical-align: top;\n",
       "    }\n",
       "\n",
       "    .dataframe thead th {\n",
       "        text-align: right;\n",
       "    }\n",
       "</style>\n",
       "<table border=\"1\" class=\"dataframe\">\n",
       "  <thead>\n",
       "    <tr style=\"text-align: right;\">\n",
       "      <th></th>\n",
       "      <th>group_id</th>\n",
       "      <th>name</th>\n",
       "      <th>type</th>\n",
       "      <th>vip_level</th>\n",
       "      <th>vip_session</th>\n",
       "      <th>shift_type</th>\n",
       "      <th>shift_time</th>\n",
       "      <th>start_date</th>\n",
       "      <th>expired_date</th>\n",
       "      <th>count_students</th>\n",
       "      <th>session_count</th>\n",
       "      <th>đợt chăm sóc</th>\n",
       "    </tr>\n",
       "  </thead>\n",
       "  <tbody>\n",
       "    <tr>\n",
       "      <th>0</th>\n",
       "      <td>2411</td>\n",
       "      <td>ONLINE VIP 500 N3- DŨNG MORI (T7/2024)</td>\n",
       "      <td>vip500</td>\n",
       "      <td>N3</td>\n",
       "      <td>52</td>\n",
       "      <td>246</td>\n",
       "      <td>19:00:00</td>\n",
       "      <td>2024-02-19</td>\n",
       "      <td>2025-02-10</td>\n",
       "      <td>619</td>\n",
       "      <td>40</td>\n",
       "      <td>0</td>\n",
       "    </tr>\n",
       "    <tr>\n",
       "      <th>1</th>\n",
       "      <td>2412</td>\n",
       "      <td>ONLINE VIP 500 N2 - DŨNG MORI (T7/2024)</td>\n",
       "      <td>vip500</td>\n",
       "      <td>N2</td>\n",
       "      <td>55</td>\n",
       "      <td>246</td>\n",
       "      <td>19:00:00</td>\n",
       "      <td>2024-02-19</td>\n",
       "      <td>2025-02-19</td>\n",
       "      <td>510</td>\n",
       "      <td>38</td>\n",
       "      <td>0</td>\n",
       "    </tr>\n",
       "    <tr>\n",
       "      <th>2</th>\n",
       "      <td>2426</td>\n",
       "      <td>ONLINE VIP 500 N1- DŨNG MORI (T7/2024)</td>\n",
       "      <td>vip500</td>\n",
       "      <td>N1</td>\n",
       "      <td>52</td>\n",
       "      <td>246</td>\n",
       "      <td>19:00:00</td>\n",
       "      <td>2024-02-19</td>\n",
       "      <td>2025-02-10</td>\n",
       "      <td>324</td>\n",
       "      <td>37</td>\n",
       "      <td>0</td>\n",
       "    </tr>\n",
       "    <tr>\n",
       "      <th>3</th>\n",
       "      <td>2634</td>\n",
       "      <td>N1 - 160224 - NGUYỄN THỊ MỸ DMR175 (246; 18-20H)</td>\n",
       "      <td>vip15</td>\n",
       "      <td>N1</td>\n",
       "      <td>55</td>\n",
       "      <td>246</td>\n",
       "      <td>18:00:00</td>\n",
       "      <td>2024-02-16</td>\n",
       "      <td>2024-08-09</td>\n",
       "      <td>20</td>\n",
       "      <td>55</td>\n",
       "      <td>0</td>\n",
       "    </tr>\n",
       "    <tr>\n",
       "      <th>4</th>\n",
       "      <td>2684</td>\n",
       "      <td>N4 - 160224 (1) - VŨ VĂN TOÀN DMR281 (246) (18...</td>\n",
       "      <td>vip15</td>\n",
       "      <td>N4</td>\n",
       "      <td>55</td>\n",
       "      <td>246</td>\n",
       "      <td>18:00:00</td>\n",
       "      <td>2024-02-16</td>\n",
       "      <td>2024-08-09</td>\n",
       "      <td>16</td>\n",
       "      <td>55</td>\n",
       "      <td>0</td>\n",
       "    </tr>\n",
       "  </tbody>\n",
       "</table>\n",
       "</div>"
      ],
      "text/plain": [
       "   group_id                                               name    type  \\\n",
       "0      2411             ONLINE VIP 500 N3- DŨNG MORI (T7/2024)  vip500   \n",
       "1      2412            ONLINE VIP 500 N2 - DŨNG MORI (T7/2024)  vip500   \n",
       "2      2426             ONLINE VIP 500 N1- DŨNG MORI (T7/2024)  vip500   \n",
       "3      2634   N1 - 160224 - NGUYỄN THỊ MỸ DMR175 (246; 18-20H)   vip15   \n",
       "4      2684  N4 - 160224 (1) - VŨ VĂN TOÀN DMR281 (246) (18...   vip15   \n",
       "\n",
       "  vip_level  vip_session  shift_type shift_time  start_date expired_date  \\\n",
       "0        N3           52         246   19:00:00  2024-02-19   2025-02-10   \n",
       "1        N2           55         246   19:00:00  2024-02-19   2025-02-19   \n",
       "2        N1           52         246   19:00:00  2024-02-19   2025-02-10   \n",
       "3        N1           55         246   18:00:00  2024-02-16   2024-08-09   \n",
       "4        N4           55         246   18:00:00  2024-02-16   2024-08-09   \n",
       "\n",
       "   count_students  session_count  đợt chăm sóc  \n",
       "0             619             40             0  \n",
       "1             510             38             0  \n",
       "2             324             37             0  \n",
       "3              20             55             0  \n",
       "4              16             55             0  "
      ]
     },
     "execution_count": 38,
     "metadata": {},
     "output_type": "execute_result"
    }
   ],
   "source": [
    "final_df.head()"
   ]
  },
  {
   "cell_type": "code",
   "execution_count": 39,
   "id": "4e2a0aea-b679-4bcd-8129-0dc8e58bdc08",
   "metadata": {},
   "outputs": [],
   "source": [
    "# filtered_df = final_df.loc[final_df['trang_thai'] == 1].sort_values(by = ['type','vip_level','session_count']).reset_index()"
   ]
  },
  {
   "cell_type": "code",
   "execution_count": 40,
   "id": "b9a45222-2996-4c0b-b3bc-8bf269d5ec88",
   "metadata": {},
   "outputs": [],
   "source": [
    "# filtered_df"
   ]
  },
  {
   "cell_type": "code",
   "execution_count": 38,
   "id": "27adf6f1-3dc0-4283-9092-ba956f876762",
   "metadata": {},
   "outputs": [],
   "source": [
    "# Đặt phạm vi (scope)\n",
    "scope = [\"https://spreadsheets.google.com/feeds\", \"https://www.googleapis.com/auth/drive\"]\n",
    "\n",
    "# Tải credentials từ file JSON\n",
    "current_directory = os.getcwd()\n",
    "file_path = os.path.join(current_directory, 'service_account_credentials.json')\n",
    "creds = service_account.Credentials.from_service_account_file(file_path, scopes=scope)\n",
    "client = gspread.authorize(creds)\n",
    "\n",
    "# Mở Google Sheet bằng URL hoặc ID\n",
    "spreadsheet = client.open_by_url('https://docs.google.com/spreadsheets/d/16c6xG0Rb9u_jkdGsjS7hU8wvDVdvnq2x7V2bhsMF42I/edit?gid=0#gid=0')\n",
    "worksheet = spreadsheet.get_worksheet(0)  # Assuming you want to paste into the first worksheet\n",
    "# Xóa tất cả dữ liệu trong worksheet\n",
    "worksheet.clear()\n",
    "\n",
    "# Ghi dữ liệu mới vào worksheet\n",
    "set_with_dataframe(worksheet, final_df) \n"
   ]
  },
  {
   "cell_type": "code",
   "execution_count": null,
   "id": "f85520e5-8bf7-4db0-9465-1994f90f1ac4",
   "metadata": {},
   "outputs": [],
   "source": [
    "driver.quit()\n"
   ]
  },
  {
   "cell_type": "code",
   "execution_count": 47,
   "id": "09390f1e",
   "metadata": {},
   "outputs": [
    {
     "data": {
      "text/html": [
       "<style type=\"text/css\">\n",
       "#T_9731e_row0_col10 {\n",
       "  background-color: #443983;\n",
       "  color: #f1f1f1;\n",
       "}\n",
       "#T_9731e_row0_col11, #T_9731e_row1_col11, #T_9731e_row2_col10, #T_9731e_row2_col11, #T_9731e_row3_col11, #T_9731e_row4_col11 {\n",
       "  background-color: #440154;\n",
       "  color: #f1f1f1;\n",
       "}\n",
       "#T_9731e_row1_col10 {\n",
       "  background-color: #481668;\n",
       "  color: #f1f1f1;\n",
       "}\n",
       "#T_9731e_row3_col10, #T_9731e_row4_col10 {\n",
       "  background-color: #fde725;\n",
       "  color: #000000;\n",
       "}\n",
       "</style>\n",
       "<table id=\"T_9731e\">\n",
       "  <thead>\n",
       "    <tr>\n",
       "      <th class=\"blank level0\" >&nbsp;</th>\n",
       "      <th id=\"T_9731e_level0_col0\" class=\"col_heading level0 col0\" >group_id</th>\n",
       "      <th id=\"T_9731e_level0_col1\" class=\"col_heading level0 col1\" >name</th>\n",
       "      <th id=\"T_9731e_level0_col2\" class=\"col_heading level0 col2\" >type</th>\n",
       "      <th id=\"T_9731e_level0_col3\" class=\"col_heading level0 col3\" >vip_level</th>\n",
       "      <th id=\"T_9731e_level0_col4\" class=\"col_heading level0 col4\" >vip_session</th>\n",
       "      <th id=\"T_9731e_level0_col5\" class=\"col_heading level0 col5\" >shift_type</th>\n",
       "      <th id=\"T_9731e_level0_col6\" class=\"col_heading level0 col6\" >shift_time</th>\n",
       "      <th id=\"T_9731e_level0_col7\" class=\"col_heading level0 col7\" >start_date</th>\n",
       "      <th id=\"T_9731e_level0_col8\" class=\"col_heading level0 col8\" >expired_date</th>\n",
       "      <th id=\"T_9731e_level0_col9\" class=\"col_heading level0 col9\" >count_students</th>\n",
       "      <th id=\"T_9731e_level0_col10\" class=\"col_heading level0 col10\" >session_count</th>\n",
       "      <th id=\"T_9731e_level0_col11\" class=\"col_heading level0 col11\" >đợt chăm sóc</th>\n",
       "    </tr>\n",
       "  </thead>\n",
       "  <tbody>\n",
       "    <tr>\n",
       "      <th id=\"T_9731e_level0_row0\" class=\"row_heading level0 row0\" >0</th>\n",
       "      <td id=\"T_9731e_row0_col0\" class=\"data row0 col0\" >2411</td>\n",
       "      <td id=\"T_9731e_row0_col1\" class=\"data row0 col1\" >ONLINE VIP 500 N3- DŨNG MORI (T7/2024)</td>\n",
       "      <td id=\"T_9731e_row0_col2\" class=\"data row0 col2\" >vip500</td>\n",
       "      <td id=\"T_9731e_row0_col3\" class=\"data row0 col3\" >N3</td>\n",
       "      <td id=\"T_9731e_row0_col4\" class=\"data row0 col4\" >52</td>\n",
       "      <td id=\"T_9731e_row0_col5\" class=\"data row0 col5\" >246</td>\n",
       "      <td id=\"T_9731e_row0_col6\" class=\"data row0 col6\" >19:00:00</td>\n",
       "      <td id=\"T_9731e_row0_col7\" class=\"data row0 col7\" >2024-02-19</td>\n",
       "      <td id=\"T_9731e_row0_col8\" class=\"data row0 col8\" >2025-02-10</td>\n",
       "      <td id=\"T_9731e_row0_col9\" class=\"data row0 col9\" >619</td>\n",
       "      <td id=\"T_9731e_row0_col10\" class=\"data row0 col10\" >40</td>\n",
       "      <td id=\"T_9731e_row0_col11\" class=\"data row0 col11\" >0</td>\n",
       "    </tr>\n",
       "    <tr>\n",
       "      <th id=\"T_9731e_level0_row1\" class=\"row_heading level0 row1\" >1</th>\n",
       "      <td id=\"T_9731e_row1_col0\" class=\"data row1 col0\" >2412</td>\n",
       "      <td id=\"T_9731e_row1_col1\" class=\"data row1 col1\" >ONLINE VIP 500 N2 - DŨNG MORI (T7/2024)</td>\n",
       "      <td id=\"T_9731e_row1_col2\" class=\"data row1 col2\" >vip500</td>\n",
       "      <td id=\"T_9731e_row1_col3\" class=\"data row1 col3\" >N2</td>\n",
       "      <td id=\"T_9731e_row1_col4\" class=\"data row1 col4\" >55</td>\n",
       "      <td id=\"T_9731e_row1_col5\" class=\"data row1 col5\" >246</td>\n",
       "      <td id=\"T_9731e_row1_col6\" class=\"data row1 col6\" >19:00:00</td>\n",
       "      <td id=\"T_9731e_row1_col7\" class=\"data row1 col7\" >2024-02-19</td>\n",
       "      <td id=\"T_9731e_row1_col8\" class=\"data row1 col8\" >2025-02-19</td>\n",
       "      <td id=\"T_9731e_row1_col9\" class=\"data row1 col9\" >510</td>\n",
       "      <td id=\"T_9731e_row1_col10\" class=\"data row1 col10\" >38</td>\n",
       "      <td id=\"T_9731e_row1_col11\" class=\"data row1 col11\" >0</td>\n",
       "    </tr>\n",
       "    <tr>\n",
       "      <th id=\"T_9731e_level0_row2\" class=\"row_heading level0 row2\" >2</th>\n",
       "      <td id=\"T_9731e_row2_col0\" class=\"data row2 col0\" >2426</td>\n",
       "      <td id=\"T_9731e_row2_col1\" class=\"data row2 col1\" >ONLINE VIP 500 N1- DŨNG MORI (T7/2024)</td>\n",
       "      <td id=\"T_9731e_row2_col2\" class=\"data row2 col2\" >vip500</td>\n",
       "      <td id=\"T_9731e_row2_col3\" class=\"data row2 col3\" >N1</td>\n",
       "      <td id=\"T_9731e_row2_col4\" class=\"data row2 col4\" >52</td>\n",
       "      <td id=\"T_9731e_row2_col5\" class=\"data row2 col5\" >246</td>\n",
       "      <td id=\"T_9731e_row2_col6\" class=\"data row2 col6\" >19:00:00</td>\n",
       "      <td id=\"T_9731e_row2_col7\" class=\"data row2 col7\" >2024-02-19</td>\n",
       "      <td id=\"T_9731e_row2_col8\" class=\"data row2 col8\" >2025-02-10</td>\n",
       "      <td id=\"T_9731e_row2_col9\" class=\"data row2 col9\" >324</td>\n",
       "      <td id=\"T_9731e_row2_col10\" class=\"data row2 col10\" >37</td>\n",
       "      <td id=\"T_9731e_row2_col11\" class=\"data row2 col11\" >0</td>\n",
       "    </tr>\n",
       "    <tr>\n",
       "      <th id=\"T_9731e_level0_row3\" class=\"row_heading level0 row3\" >3</th>\n",
       "      <td id=\"T_9731e_row3_col0\" class=\"data row3 col0\" >2634</td>\n",
       "      <td id=\"T_9731e_row3_col1\" class=\"data row3 col1\" >N1 - 160224 - NGUYỄN THỊ MỸ DMR175 (246; 18-20H)</td>\n",
       "      <td id=\"T_9731e_row3_col2\" class=\"data row3 col2\" >vip15</td>\n",
       "      <td id=\"T_9731e_row3_col3\" class=\"data row3 col3\" >N1</td>\n",
       "      <td id=\"T_9731e_row3_col4\" class=\"data row3 col4\" >55</td>\n",
       "      <td id=\"T_9731e_row3_col5\" class=\"data row3 col5\" >246</td>\n",
       "      <td id=\"T_9731e_row3_col6\" class=\"data row3 col6\" >18:00:00</td>\n",
       "      <td id=\"T_9731e_row3_col7\" class=\"data row3 col7\" >2024-02-16</td>\n",
       "      <td id=\"T_9731e_row3_col8\" class=\"data row3 col8\" >2024-08-09</td>\n",
       "      <td id=\"T_9731e_row3_col9\" class=\"data row3 col9\" >20</td>\n",
       "      <td id=\"T_9731e_row3_col10\" class=\"data row3 col10\" >55</td>\n",
       "      <td id=\"T_9731e_row3_col11\" class=\"data row3 col11\" >0</td>\n",
       "    </tr>\n",
       "    <tr>\n",
       "      <th id=\"T_9731e_level0_row4\" class=\"row_heading level0 row4\" >4</th>\n",
       "      <td id=\"T_9731e_row4_col0\" class=\"data row4 col0\" >2684</td>\n",
       "      <td id=\"T_9731e_row4_col1\" class=\"data row4 col1\" >N4 - 160224 (1) - VŨ VĂN TOÀN DMR281 (246) (18h~20h)</td>\n",
       "      <td id=\"T_9731e_row4_col2\" class=\"data row4 col2\" >vip15</td>\n",
       "      <td id=\"T_9731e_row4_col3\" class=\"data row4 col3\" >N4</td>\n",
       "      <td id=\"T_9731e_row4_col4\" class=\"data row4 col4\" >55</td>\n",
       "      <td id=\"T_9731e_row4_col5\" class=\"data row4 col5\" >246</td>\n",
       "      <td id=\"T_9731e_row4_col6\" class=\"data row4 col6\" >18:00:00</td>\n",
       "      <td id=\"T_9731e_row4_col7\" class=\"data row4 col7\" >2024-02-16</td>\n",
       "      <td id=\"T_9731e_row4_col8\" class=\"data row4 col8\" >2024-08-09</td>\n",
       "      <td id=\"T_9731e_row4_col9\" class=\"data row4 col9\" >16</td>\n",
       "      <td id=\"T_9731e_row4_col10\" class=\"data row4 col10\" >55</td>\n",
       "      <td id=\"T_9731e_row4_col11\" class=\"data row4 col11\" >0</td>\n",
       "    </tr>\n",
       "  </tbody>\n",
       "</table>\n"
      ],
      "text/plain": [
       "<pandas.io.formats.style.Styler at 0x20aa5d63020>"
      ]
     },
     "execution_count": 47,
     "metadata": {},
     "output_type": "execute_result"
    }
   ],
   "source": [
    "# final_df.head().style.background_gradient(subset = ['session_count','đợt chăm sóc'],cmap='viridis')"
   ]
  },
  {
   "cell_type": "code",
   "execution_count": null,
   "id": "4fd1d1fc",
   "metadata": {},
   "outputs": [],
   "source": []
  }
 ],
 "metadata": {
  "kernelspec": {
   "display_name": "Python 3 (ipykernel)",
   "language": "python",
   "name": "python3"
  },
  "language_info": {
   "codemirror_mode": {
    "name": "ipython",
    "version": 3
   },
   "file_extension": ".py",
   "mimetype": "text/x-python",
   "name": "python",
   "nbconvert_exporter": "python",
   "pygments_lexer": "ipython3",
   "version": "3.12.4"
  }
 },
 "nbformat": 4,
 "nbformat_minor": 5
}
